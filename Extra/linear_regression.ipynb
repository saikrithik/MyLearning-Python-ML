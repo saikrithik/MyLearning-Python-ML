{
  "nbformat": 4,
  "nbformat_minor": 0,
  "metadata": {
    "kernelspec": {
      "display_name": "Python 3",
      "language": "python",
      "name": "python3"
    },
    "language_info": {
      "codemirror_mode": {
        "name": "ipython",
        "version": 3
      },
      "file_extension": ".py",
      "mimetype": "text/x-python",
      "name": "python",
      "nbconvert_exporter": "python",
      "pygments_lexer": "ipython3",
      "version": "3.7.6"
    },
    "colab": {
      "name": "linear-regression.ipynb",
      "provenance": [],
      "collapsed_sections": [
        "3lE4gdLETyB9",
        "3JMdd6QhTyCZ",
        "Hh1z1OiFTyDI",
        "S3InmgrJTyEX",
        "4XENEMooTyFo",
        "sgBf-PPATyGY",
        "47em9-CQTyHq",
        "4ux-6hpgTyIf",
        "u9o2LFCsTyJK",
        "b7T1Kd27TyJQ",
        "oj9NJtb8TyLC",
        "2jL7AuGvTyLm"
      ]
    }
  },
  "cells": [
    {
      "cell_type": "markdown",
      "metadata": {
        "id": "wZzPnjK9Tx_e"
      },
      "source": [
        "We'll create a model that predicts crop yields for apples and oranges (*target variables*) by looking at the average temperature, rainfall and humidity (*input variables or features*) in a region. Here's the training data:\n",
        "\n",
        "![linear-regression-training-data](https://i.imgur.com/6Ujttb4.png)\n",
        "\n",
        "In a linear regression model, each target variable is estimated to be a weighted sum of the input variables, offset by some constant, known as a bias :\n",
        "\n",
        "```\n",
        "yield_apple  = w11 * temp + w12 * rainfall + w13 * humidity + b1\n",
        "yield_orange = w21 * temp + w22 * rainfall + w23 * humidity + b2\n",
        "```\n",
        "\n",
        "Visually, it means that the yield of apples is a linear or planar function of temperature, rainfall and humidity:\n",
        "\n",
        "![linear-regression-graph](https://i.imgur.com/4DJ9f8X.png)\n",
        "\n",
        "The *learning* part of linear regression is to figure out a set of weights `w11, w12,... w23, b1 & b2` by looking at the training data, to make accurate predictions for new data (i.e. to predict the yields for apples and oranges in a new region using the average temperature, rainfall and humidity). This is done by adjusting the weights slightly many times to make better predictions, using an optimization technique called *gradient descent*."
      ]
    },
    {
      "cell_type": "markdown",
      "metadata": {
        "id": "sVrQPRZ5Tx_i"
      },
      "source": [
        "We begin by importing Numpy and PyTorch:"
      ]
    },
    {
      "cell_type": "code",
      "metadata": {
        "id": "Xo4rcEdqTx_m"
      },
      "source": [
        "# Uncomment the command below if Numpy or PyTorch is not installed\n",
        "# !conda install numpy pytorch cpuonly -c pytorch -y"
      ],
      "execution_count": null,
      "outputs": []
    },
    {
      "cell_type": "code",
      "metadata": {
        "id": "nQwZIEeETx_w"
      },
      "source": [
        "import numpy as np\n",
        "import torch"
      ],
      "execution_count": 1,
      "outputs": []
    },
    {
      "cell_type": "markdown",
      "metadata": {
        "id": "u06y3HjcTx_5"
      },
      "source": [
        "## Training data\n",
        "\n",
        "The training data can be represented using 2 matrices: `inputs` and `targets`, each with one row per observation, and one column per variable."
      ]
    },
    {
      "cell_type": "code",
      "metadata": {
        "id": "CHzGlrmATx_6"
      },
      "source": [
        "# Input (temp, rainfall, humidity)\n",
        "inputs = np.array([[73, 67, 43], \n",
        "                   [91, 88, 64], \n",
        "                   [87, 134, 58], \n",
        "                   [102, 43, 37], \n",
        "                   [69, 96, 70]], dtype='float32')"
      ],
      "execution_count": 2,
      "outputs": []
    },
    {
      "cell_type": "code",
      "metadata": {
        "id": "G55yrNrfTyAE"
      },
      "source": [
        "# Targets (apples, oranges)\n",
        "targets = np.array([[56, 70], \n",
        "                    [81, 101], \n",
        "                    [119, 133], \n",
        "                    [22, 37], \n",
        "                    [103, 119]], dtype='float32')"
      ],
      "execution_count": 3,
      "outputs": []
    },
    {
      "cell_type": "markdown",
      "metadata": {
        "id": "6h_AUzuVTyAQ"
      },
      "source": [
        "We've separated the input and target variables, because we'll operate on them separately. Also, we've created numpy arrays, because this is typically how you would work with training data: read some CSV files as numpy arrays, do some processing, and then convert them to PyTorch tensors as follows:"
      ]
    },
    {
      "cell_type": "code",
      "metadata": {
        "id": "Hb-38gTVTyAS",
        "outputId": "09ce20b4-b05b-47eb-b135-3d165824bcad",
        "colab": {
          "base_uri": "https://localhost:8080/",
          "height": 187
        }
      },
      "source": [
        "# Convert inputs and targets to tensors\n",
        "inputs = torch.from_numpy(inputs)\n",
        "targets = torch.from_numpy(targets)\n",
        "print(inputs)\n",
        "print(targets)"
      ],
      "execution_count": 4,
      "outputs": [
        {
          "output_type": "stream",
          "text": [
            "tensor([[ 73.,  67.,  43.],\n",
            "        [ 91.,  88.,  64.],\n",
            "        [ 87., 134.,  58.],\n",
            "        [102.,  43.,  37.],\n",
            "        [ 69.,  96.,  70.]])\n",
            "tensor([[ 56.,  70.],\n",
            "        [ 81., 101.],\n",
            "        [119., 133.],\n",
            "        [ 22.,  37.],\n",
            "        [103., 119.]])\n"
          ],
          "name": "stdout"
        }
      ]
    },
    {
      "cell_type": "markdown",
      "metadata": {
        "id": "KdApXXqWTyAs"
      },
      "source": [
        "## Linear regression model from scratch\n",
        "\n",
        "The weights and biases (`w11, w12,... w23, b1 & b2`) can also be represented as matrices, initialized as random values. The first row of `w` and the first element of `b` are used to predict the first target variable i.e. yield of apples, and similarly the second for oranges."
      ]
    },
    {
      "cell_type": "code",
      "metadata": {
        "id": "CIv5FKciTyAx",
        "outputId": "27625a49-ddeb-4b8a-fdd2-0c7fcb6cb3c6",
        "colab": {
          "base_uri": "https://localhost:8080/",
          "height": 68
        }
      },
      "source": [
        "# Weights and biases\n",
        "w = torch.randn(2, 3, requires_grad=True)\n",
        "b = torch.randn(2, requires_grad=True)\n",
        "print(w)\n",
        "print(b)"
      ],
      "execution_count": 9,
      "outputs": [
        {
          "output_type": "stream",
          "text": [
            "tensor([[ 1.2749, -1.3628,  0.5154],\n",
            "        [ 0.3665,  0.9378,  0.1306]], requires_grad=True)\n",
            "tensor([0.7756, 0.2725], requires_grad=True)\n"
          ],
          "name": "stdout"
        }
      ]
    },
    {
      "cell_type": "markdown",
      "metadata": {
        "id": "niGIHhDfTyBB"
      },
      "source": [
        "`torch.randn` creates a tensor with the given shape, with elements picked randomly from a [normal distribution](https://en.wikipedia.org/wiki/Normal_distribution) with mean 0 and standard deviation 1.\n",
        "\n",
        "Our *model* is simply a function that performs a matrix multiplication of the `inputs` and the weights `w` (transposed) and adds the bias `b` (replicated for each observation).\n",
        "\n",
        "![matrix-mult](https://i.imgur.com/WGXLFvA.png)\n",
        "\n",
        "We can define the model as follows:"
      ]
    },
    {
      "cell_type": "code",
      "metadata": {
        "id": "CwJ7txyCTyBE"
      },
      "source": [
        "def model(x):\n",
        "    return x @ w.t() + b"
      ],
      "execution_count": 10,
      "outputs": []
    },
    {
      "cell_type": "markdown",
      "metadata": {
        "id": "1iyl2BJ9TyBU"
      },
      "source": [
        "`@` represents matrix multiplication in PyTorch, and the `.t` method returns the transpose of a tensor.\n",
        "\n",
        "The matrix obtained by passing the input data into the model is a set of predictions for the target variables."
      ]
    },
    {
      "cell_type": "code",
      "metadata": {
        "id": "2wmmCIqpTyBX",
        "outputId": "866610df-a64b-4ae3-f70f-c1da36f9ed58",
        "colab": {
          "base_uri": "https://localhost:8080/",
          "height": 102
        }
      },
      "source": [
        "# Generate predictions\n",
        "preds = model(inputs)\n",
        "print(preds)"
      ],
      "execution_count": 11,
      "outputs": [
        {
          "output_type": "stream",
          "text": [
            "tensor([[ 24.7013,  95.4797],\n",
            "        [ 29.8555, 124.5146],\n",
            "        [-41.0250, 165.4050],\n",
            "        [ 91.2878,  82.8171],\n",
            "        [ -6.0021, 124.7375]], grad_fn=<AddBackward0>)\n"
          ],
          "name": "stdout"
        }
      ]
    },
    {
      "cell_type": "markdown",
      "metadata": {
        "id": "8NTKNqMLTyBp"
      },
      "source": [
        "Let's compare the predictions of our model with the actual targets."
      ]
    },
    {
      "cell_type": "code",
      "metadata": {
        "id": "WpGfTFjqTyBr",
        "outputId": "fdb684a8-fea8-4eba-d5d7-111156f130a0",
        "colab": {
          "base_uri": "https://localhost:8080/",
          "height": 102
        }
      },
      "source": [
        "# Compare with targets\n",
        "print(targets)"
      ],
      "execution_count": 12,
      "outputs": [
        {
          "output_type": "stream",
          "text": [
            "tensor([[ 56.,  70.],\n",
            "        [ 81., 101.],\n",
            "        [119., 133.],\n",
            "        [ 22.,  37.],\n",
            "        [103., 119.]])\n"
          ],
          "name": "stdout"
        }
      ]
    },
    {
      "cell_type": "markdown",
      "metadata": {
        "id": "hVQ-KOrtTyB8"
      },
      "source": [
        "You can see that there's a huge difference between the predictions of our model, and the actual values of the target variables. Obviously, this is because we've initialized our model with random weights and biases, and we can't expect it to *just work*."
      ]
    },
    {
      "cell_type": "markdown",
      "metadata": {
        "id": "3lE4gdLETyB9"
      },
      "source": [
        "## Loss function\n",
        "\n",
        "Before we improve our model, we need a way to evaluate how well our model is performing. We can compare the model's predictions with the actual targets, using the following method:\n",
        "\n",
        "* Calculate the difference between the two matrices (`preds` and `targets`).\n",
        "* Square all elements of the difference matrix to remove negative values.\n",
        "* Calculate the average of the elements in the resulting matrix.\n",
        "\n",
        "The result is a single number, known as the **mean squared error** (MSE)."
      ]
    },
    {
      "cell_type": "code",
      "metadata": {
        "id": "PamrS3sDTyB_"
      },
      "source": [
        "# MSE loss\n",
        "def mse(t1, t2):\n",
        "    diff = t1 - t2\n",
        "    return torch.sum(diff * diff) / diff.numel()"
      ],
      "execution_count": 13,
      "outputs": []
    },
    {
      "cell_type": "markdown",
      "metadata": {
        "id": "6dIq2S5ETyCK"
      },
      "source": [
        "`torch.sum` returns the sum of all the elements in a tensor, and the `.numel` method returns the number of elements in a tensor. Let's compute the mean squared error for the current predictions of our model."
      ]
    },
    {
      "cell_type": "code",
      "metadata": {
        "id": "9mrwRCiMTyCM",
        "outputId": "35f16197-6cb5-4146-c7fb-5dc2d434a21e",
        "colab": {
          "base_uri": "https://localhost:8080/",
          "height": 34
        }
      },
      "source": [
        "# Compute loss\n",
        "loss = mse(preds, targets)\n",
        "print(loss)"
      ],
      "execution_count": 14,
      "outputs": [
        {
          "output_type": "stream",
          "text": [
            "tensor(5027.0010, grad_fn=<DivBackward0>)\n"
          ],
          "name": "stdout"
        }
      ]
    },
    {
      "cell_type": "markdown",
      "metadata": {
        "id": "B0gZzz8JTyCW"
      },
      "source": [
        "Here’s how we can interpret the result: *On average, each element in the prediction differs from the actual target by about 145 (square root of the loss 20834)*. And that’s pretty bad, considering the numbers we are trying to predict are themselves in the range 50–200. Also, the result is called the *loss*, because it indicates how bad the model is at predicting the target variables. Lower the loss, better the model."
      ]
    },
    {
      "cell_type": "markdown",
      "metadata": {
        "id": "3JMdd6QhTyCZ"
      },
      "source": [
        "## Compute gradients\n",
        "\n",
        "With PyTorch, we can automatically compute the gradient or derivative of the loss w.r.t. to the weights and biases, because they have `requires_grad` set to `True`."
      ]
    },
    {
      "cell_type": "code",
      "metadata": {
        "id": "JTYOQfRpTyCd"
      },
      "source": [
        "# Compute gradients\n",
        "loss.backward()"
      ],
      "execution_count": 15,
      "outputs": []
    },
    {
      "cell_type": "markdown",
      "metadata": {
        "id": "aZ8M7vrrTyCm"
      },
      "source": [
        "The gradients are stored in the `.grad` property of the respective tensors. Note that the derivative of the loss w.r.t. the weights matrix is itself a matrix, with the same dimensions."
      ]
    },
    {
      "cell_type": "code",
      "metadata": {
        "id": "m6nxB9AHTyCo",
        "outputId": "f45201f8-beca-4586-a961-ce21debe7109",
        "colab": {
          "base_uri": "https://localhost:8080/",
          "height": 85
        }
      },
      "source": [
        "# Gradients for weights\n",
        "print(w)\n",
        "print(w.grad)"
      ],
      "execution_count": 16,
      "outputs": [
        {
          "output_type": "stream",
          "text": [
            "tensor([[ 1.2749, -1.3628,  0.5154],\n",
            "        [ 0.3665,  0.9378,  0.1306]], requires_grad=True)\n",
            "tensor([[-4262.9844, -7105.1831, -3793.4087],\n",
            "        [ 2377.6631,  2127.9260,  1315.3821]])\n"
          ],
          "name": "stdout"
        }
      ]
    },
    {
      "cell_type": "markdown",
      "metadata": {
        "id": "rjCo0LMwTyCx"
      },
      "source": [
        "The loss is a [quadratic function](https://en.wikipedia.org/wiki/Quadratic_function) of our weights and biases, and our objective is to find the set of weights where the loss is the lowest. If we plot a graph of the loss w.r.t any individual weight or bias element, it will look like the figure shown below. A key insight from calculus is that the gradient indicates the rate of change of the loss, or the [slope](https://en.wikipedia.org/wiki/Slope) of the loss function w.r.t. the weights and biases.\n",
        "\n",
        "If a gradient element is **positive**:\n",
        "* **increasing** the element's value slightly will **increase** the loss.\n",
        "* **decreasing** the element's value slightly will **decrease** the loss\n",
        "\n",
        "![postive-gradient](https://i.imgur.com/hFYoVgU.png)\n",
        "\n",
        "If a gradient element is **negative**:\n",
        "* **increasing** the element's value slightly will **decrease** the loss.\n",
        "* **decreasing** the element's value slightly will **increase** the loss.\n",
        "\n",
        "![negative=gradient](https://i.imgur.com/w3Wii7C.png)\n",
        "\n",
        "The increase or decrease in loss by changing a weight element is proportional to the value of the gradient of the loss w.r.t. that element. This forms the basis for the optimization algorithm that we'll use to improve our model."
      ]
    },
    {
      "cell_type": "markdown",
      "metadata": {
        "id": "VLxly4yQTyCz"
      },
      "source": [
        "Before we proceed, we reset the gradients to zero by calling `.zero_()` method. We need to do this, because PyTorch accumulates, gradients i.e. the next time we call `.backward` on the loss, the new gradient values will get added to the existing gradient values, which may lead to unexpected results."
      ]
    },
    {
      "cell_type": "code",
      "metadata": {
        "id": "P-fkpdn4TyC4",
        "outputId": "63d7dcfd-dc5c-4543-8ae2-45dd185a676b",
        "colab": {
          "base_uri": "https://localhost:8080/",
          "height": 68
        }
      },
      "source": [
        "w.grad.zero_()\n",
        "b.grad.zero_()\n",
        "print(w.grad)\n",
        "print(b.grad)"
      ],
      "execution_count": null,
      "outputs": [
        {
          "output_type": "stream",
          "text": [
            "tensor([[0., 0., 0.],\n",
            "        [0., 0., 0.]])\n",
            "tensor([0., 0.])\n"
          ],
          "name": "stdout"
        }
      ]
    },
    {
      "cell_type": "markdown",
      "metadata": {
        "id": "Hh1z1OiFTyDI"
      },
      "source": [
        "## Adjust weights and biases using gradient descent\n",
        "\n",
        "We'll reduce the loss and improve our model using the gradient descent optimization algorithm, which has the following steps:\n",
        "\n",
        "1. Generate predictions\n",
        "\n",
        "2. Calculate the loss\n",
        "\n",
        "3. Compute gradients w.r.t the weights and biases\n",
        "\n",
        "4. Adjust the weights by subtracting a small quantity proportional to the gradient\n",
        "\n",
        "5. Reset the gradients to zero\n",
        "\n",
        "Let's implement the above step by step."
      ]
    },
    {
      "cell_type": "code",
      "metadata": {
        "id": "hO9JWOKGTyDJ",
        "outputId": "384556d2-08aa-4d89-8463-1af14fca54e4",
        "colab": {
          "base_uri": "https://localhost:8080/",
          "height": 102
        }
      },
      "source": [
        "# Generate predictions\n",
        "preds = model(inputs)\n",
        "print(preds)"
      ],
      "execution_count": null,
      "outputs": [
        {
          "output_type": "stream",
          "text": [
            "tensor([[  16.8123,  -69.8624],\n",
            "        [  24.0642,  -96.0090],\n",
            "        [ -36.5255, -105.0003],\n",
            "        [  62.1197,  -65.3555],\n",
            "        [   2.5356,  -97.2944]], grad_fn=<AddBackward0>)\n"
          ],
          "name": "stdout"
        }
      ]
    },
    {
      "cell_type": "markdown",
      "metadata": {
        "id": "pls3-uEqTyDQ"
      },
      "source": [
        "Note that the predictions are same as before, since we haven't made any changes to our model. The same holds true for the loss and gradients."
      ]
    },
    {
      "cell_type": "code",
      "metadata": {
        "id": "cjtvykCiTyDS",
        "outputId": "6fe38a4d-f48c-4a88-8117-a5b6989ceb47",
        "colab": {
          "base_uri": "https://localhost:8080/",
          "height": 34
        }
      },
      "source": [
        "# Calculate the loss\n",
        "loss = mse(preds, targets)\n",
        "print(loss)"
      ],
      "execution_count": null,
      "outputs": [
        {
          "output_type": "stream",
          "text": [
            "tensor(21294.6348, grad_fn=<DivBackward0>)\n"
          ],
          "name": "stdout"
        }
      ]
    },
    {
      "cell_type": "code",
      "metadata": {
        "id": "b-DwbUDkTyDa",
        "outputId": "24fc85f3-c27c-49d6-e6c0-db1b6cf1e98a",
        "colab": {
          "base_uri": "https://localhost:8080/",
          "height": 68
        }
      },
      "source": [
        "# Compute gradients\n",
        "loss.backward()\n",
        "print(w.grad)\n",
        "print(b.grad)"
      ],
      "execution_count": null,
      "outputs": [
        {
          "output_type": "stream",
          "text": [
            "tensor([[ -4882.4814,  -7279.1558,  -3979.5039],\n",
            "        [-14841.6758, -16753.0332, -10270.8887]])\n",
            "tensor([ -62.3987, -178.7043])\n"
          ],
          "name": "stdout"
        }
      ]
    },
    {
      "cell_type": "markdown",
      "metadata": {
        "id": "wti3S3poTyDk"
      },
      "source": [
        "Finally, we update the weights and biases using the gradients computed above."
      ]
    },
    {
      "cell_type": "code",
      "metadata": {
        "id": "CNsyHGR0TyDm"
      },
      "source": [
        "# Adjust weights & reset gradients\n",
        "with torch.no_grad():\n",
        "    w -= w.grad * 1e-5\n",
        "    b -= b.grad * 1e-5\n",
        "    w.grad.zero_()\n",
        "    b.grad.zero_()"
      ],
      "execution_count": null,
      "outputs": []
    },
    {
      "cell_type": "markdown",
      "metadata": {
        "id": "CY0V9TCsTyDz"
      },
      "source": [
        "A few things to note above:\n",
        "\n",
        "* We use `torch.no_grad` to indicate to PyTorch that we shouldn't track, calculate or modify gradients while updating the weights and biases. \n",
        "\n",
        "* We multiply the gradients with a really small number (`10^-5` in this case), to ensure that we don't modify the weights by a really large amount, since we only want to take a small step in the downhill direction of the gradient. This number is called the *learning rate* of the algorithm. \n",
        "\n",
        "* After we have updated the weights, we reset the gradients back to zero, to avoid affecting any future computations."
      ]
    },
    {
      "cell_type": "markdown",
      "metadata": {
        "id": "lsbagrlwTyD1"
      },
      "source": [
        "Let's take a look at the new weights and biases."
      ]
    },
    {
      "cell_type": "code",
      "metadata": {
        "id": "Jfdg049XTyD2",
        "outputId": "fa2a2829-8916-4e65-f4ac-193364a2e3d3",
        "colab": {
          "base_uri": "https://localhost:8080/",
          "height": 68
        }
      },
      "source": [
        "print(w)\n",
        "print(b)"
      ],
      "execution_count": null,
      "outputs": [
        {
          "output_type": "stream",
          "text": [
            "tensor([[ 0.8341, -1.0698,  0.8546],\n",
            "        [-0.1024, -0.1435, -0.6163]], requires_grad=True)\n",
            "tensor([1.0030, 0.2075], requires_grad=True)\n"
          ],
          "name": "stdout"
        }
      ]
    },
    {
      "cell_type": "markdown",
      "metadata": {
        "id": "XvI5bVShTyEC"
      },
      "source": [
        "With the new weights and biases, the model should have lower loss."
      ]
    },
    {
      "cell_type": "code",
      "metadata": {
        "id": "l0Ravq5pTyED",
        "outputId": "d59aab3d-0e34-42fc-ce9b-777505e98500",
        "colab": {
          "base_uri": "https://localhost:8080/",
          "height": 34
        }
      },
      "source": [
        "# Calculate loss\n",
        "preds = model(inputs)\n",
        "loss = mse(preds, targets)\n",
        "print(loss)"
      ],
      "execution_count": null,
      "outputs": [
        {
          "output_type": "stream",
          "text": [
            "tensor(14927.4629, grad_fn=<DivBackward0>)\n"
          ],
          "name": "stdout"
        }
      ]
    },
    {
      "cell_type": "markdown",
      "metadata": {
        "id": "LLNQsm_3TyEW"
      },
      "source": [
        "We have already achieved a significant reduction in the loss, simply by adjusting the weights and biases slightly using gradient descent."
      ]
    },
    {
      "cell_type": "markdown",
      "metadata": {
        "id": "S3InmgrJTyEX"
      },
      "source": [
        "## Train for multiple epochs\n",
        "\n",
        "To reduce the loss further, we can repeat the process of adjusting the weights and biases using the gradients multiple times. Each iteration is called an epoch. Let's train the model for 100 epochs."
      ]
    },
    {
      "cell_type": "code",
      "metadata": {
        "id": "WUp0A8aBTyEY"
      },
      "source": [
        "# Train for 100 epochs\n",
        "for i in range(100):\n",
        "    preds = model(inputs)\n",
        "    loss = mse(preds, targets)\n",
        "    loss.backward()\n",
        "    with torch.no_grad():\n",
        "        w -= w.grad * 1e-5\n",
        "        b -= b.grad * 1e-5\n",
        "        w.grad.zero_()\n",
        "        b.grad.zero_()"
      ],
      "execution_count": null,
      "outputs": []
    },
    {
      "cell_type": "markdown",
      "metadata": {
        "id": "zihQewMiTyEi"
      },
      "source": [
        "Once again, let's verify that the loss is now lower:"
      ]
    },
    {
      "cell_type": "code",
      "metadata": {
        "id": "b1CXtZXRTyEj",
        "outputId": "f8271a52-7f12-4f52-e20d-d774233f33bc",
        "colab": {
          "base_uri": "https://localhost:8080/",
          "height": 34
        }
      },
      "source": [
        "# Calculate loss\n",
        "preds = model(inputs)\n",
        "loss = mse(preds, targets)\n",
        "print(loss)"
      ],
      "execution_count": null,
      "outputs": [
        {
          "output_type": "stream",
          "text": [
            "tensor(549.2316, grad_fn=<DivBackward0>)\n"
          ],
          "name": "stdout"
        }
      ]
    },
    {
      "cell_type": "markdown",
      "metadata": {
        "id": "J48QXHLXTyEs"
      },
      "source": [
        "As you can see, the loss is now much lower than what we started out with. Let's look at the model's predictions and compare them with the targets."
      ]
    },
    {
      "cell_type": "code",
      "metadata": {
        "id": "hwTCOHglTyEx",
        "outputId": "ff6533fd-4dae-43e3-bb03-0334ecccfb91",
        "colab": {
          "base_uri": "https://localhost:8080/",
          "height": 102
        }
      },
      "source": [
        "# Predictions\n",
        "preds"
      ],
      "execution_count": null,
      "outputs": [
        {
          "output_type": "execute_result",
          "data": {
            "text/plain": [
              "tensor([[ 65.9845,  74.8359],\n",
              "        [ 92.6881,  96.6976],\n",
              "        [ 80.6801, 134.7163],\n",
              "        [ 71.8237,  62.4097],\n",
              "        [ 90.7404,  97.4499]], grad_fn=<AddBackward0>)"
            ]
          },
          "metadata": {
            "tags": []
          },
          "execution_count": 22
        }
      ]
    },
    {
      "cell_type": "code",
      "metadata": {
        "id": "zVhXoJYITyE3",
        "outputId": "a02c0368-3d9a-4f3c-852c-7a0219028555",
        "colab": {
          "base_uri": "https://localhost:8080/",
          "height": 102
        }
      },
      "source": [
        "# Targets\n",
        "targets"
      ],
      "execution_count": null,
      "outputs": [
        {
          "output_type": "execute_result",
          "data": {
            "text/plain": [
              "tensor([[ 56.,  70.],\n",
              "        [ 81., 101.],\n",
              "        [119., 133.],\n",
              "        [ 22.,  37.],\n",
              "        [103., 119.]])"
            ]
          },
          "metadata": {
            "tags": []
          },
          "execution_count": 23
        }
      ]
    },
    {
      "cell_type": "markdown",
      "metadata": {
        "id": "5MgSWsx8TyFB"
      },
      "source": [
        "The prediction are now quite close to the target variables, and we can get even better results by training for a few more epochs. \n",
        "\n",
        "At this point, we can save our notebook and upload it to [Jovian.ml](https://www.jovian.ml) for future reference and sharing."
      ]
    },
    {
      "cell_type": "code",
      "metadata": {
        "id": "Ww1ho-piTyFG",
        "outputId": "2761b298-e8f9-4c20-fdbd-5fcdab622b7c",
        "colab": {
          "base_uri": "https://localhost:8080/",
          "height": 51
        }
      },
      "source": [
        "!pip install jovian --upgrade -q"
      ],
      "execution_count": null,
      "outputs": [
        {
          "output_type": "stream",
          "text": [
            "\u001b[?25l\r\u001b[K     |█████                           | 10kB 10.3MB/s eta 0:00:01\r\u001b[K     |██████████                      | 20kB 2.1MB/s eta 0:00:01\r\u001b[K     |███████████████                 | 30kB 2.8MB/s eta 0:00:01\r\u001b[K     |████████████████████            | 40kB 2.9MB/s eta 0:00:01\r\u001b[K     |█████████████████████████       | 51kB 2.5MB/s eta 0:00:01\r\u001b[K     |██████████████████████████████  | 61kB 2.7MB/s eta 0:00:01\r\u001b[K     |████████████████████████████████| 71kB 2.0MB/s \n",
            "\u001b[?25h  Building wheel for uuid (setup.py) ... \u001b[?25l\u001b[?25hdone\n"
          ],
          "name": "stdout"
        }
      ]
    },
    {
      "cell_type": "code",
      "metadata": {
        "id": "1SgXjKCITyFS"
      },
      "source": [
        "import jovian"
      ],
      "execution_count": null,
      "outputs": []
    },
    {
      "cell_type": "code",
      "metadata": {
        "id": "4cXO5BhGTyFc",
        "outputId": "c6e64b30-9852-4042-80a9-a052956e3687"
      },
      "source": [
        "jovian.commit()"
      ],
      "execution_count": null,
      "outputs": [
        {
          "output_type": "display_data",
          "data": {
            "application/javascript": [
              "window.require && require([\"base/js/namespace\"],function(Jupyter){Jupyter.notebook.save_checkpoint()})"
            ],
            "text/plain": [
              "<IPython.core.display.Javascript object>"
            ]
          },
          "metadata": {
            "tags": []
          }
        },
        {
          "output_type": "stream",
          "text": [
            "[jovian] Attempting to save notebook..\u001b[0m\n",
            "[jovian] Please enter your API key ( from https://jovian.ml/ ):\u001b[0m\n",
            "API KEY: ········\n",
            "[jovian] Updating notebook \"aakashns/02-linear-regression\" on https://jovian.ml/\u001b[0m\n",
            "[jovian] Uploading notebook..\u001b[0m\n",
            "[jovian] Capturing environment..\u001b[0m\n",
            "[jovian] Committed successfully! https://jovian.ml/aakashns/02-linear-regression\u001b[0m\n"
          ],
          "name": "stdout"
        },
        {
          "output_type": "execute_result",
          "data": {
            "text/plain": [
              "'https://jovian.ml/aakashns/02-linear-regression'"
            ]
          },
          "metadata": {
            "tags": []
          },
          "execution_count": 37
        }
      ]
    },
    {
      "cell_type": "markdown",
      "metadata": {
        "id": "Jt70MI83TyFm"
      },
      "source": [
        "`jovian.commit` uploads the notebook to [Jovian.ml](https://www.jovian.ml), captures the Python environment and creates a sharable link for the notebook. You can use this link to share your work and let anyone reproduce it easily with the `jovian clone` command.  Jovian also includes a powerful commenting interface, so you (and others) can discuss & comment on specific parts of your notebook:\n",
        "\n",
        "![commenting on jovian](https://cdn-images-1.medium.com/max/1600/1*b4snnr_5Ve5Nyq60iDtuuw.png)"
      ]
    },
    {
      "cell_type": "markdown",
      "metadata": {
        "id": "4XENEMooTyFo"
      },
      "source": [
        "## Linear regression using PyTorch built-ins\n",
        "\n",
        "The model and training process above were implemented using basic matrix operations. But since this such a common pattern , PyTorch has several built-in functions and classes to make it easy to create and train models.\n",
        "\n",
        "Let's begin by importing the `torch.nn` package from PyTorch, which contains utility classes for building neural networks."
      ]
    },
    {
      "cell_type": "code",
      "metadata": {
        "id": "Owwd7PmwTyFp"
      },
      "source": [
        "import torch.nn as nn"
      ],
      "execution_count": null,
      "outputs": []
    },
    {
      "cell_type": "markdown",
      "metadata": {
        "id": "WwtT6jYBTyF1"
      },
      "source": [
        "As before, we represent the inputs and targets and matrices."
      ]
    },
    {
      "cell_type": "code",
      "metadata": {
        "id": "lJcWxKibTyF2"
      },
      "source": [
        "# Input (temp, rainfall, humidity)\n",
        "inputs = np.array([[73, 67, 43], [91, 88, 64], [87, 134, 58], \n",
        "                   [102, 43, 37], [69, 96, 70], [73, 67, 43], \n",
        "                   [91, 88, 64], [87, 134, 58], [102, 43, 37], \n",
        "                   [69, 96, 70], [73, 67, 43], [91, 88, 64], \n",
        "                   [87, 134, 58], [102, 43, 37], [69, 96, 70]], \n",
        "                  dtype='float32')\n",
        "\n",
        "# Targets (apples, oranges)\n",
        "targets = np.array([[56, 70], [81, 101], [119, 133], \n",
        "                    [22, 37], [103, 119], [56, 70], \n",
        "                    [81, 101], [119, 133], [22, 37], \n",
        "                    [103, 119], [56, 70], [81, 101], \n",
        "                    [119, 133], [22, 37], [103, 119]], \n",
        "                   dtype='float32')\n",
        "\n",
        "inputs = torch.from_numpy(inputs)\n",
        "targets = torch.from_numpy(targets)"
      ],
      "execution_count": null,
      "outputs": []
    },
    {
      "cell_type": "code",
      "metadata": {
        "id": "rQRVJXkMTyGK",
        "outputId": "e4dafe91-37e5-43c2-fce9-bb14161d886c",
        "colab": {
          "base_uri": "https://localhost:8080/",
          "height": 272
        }
      },
      "source": [
        "inputs"
      ],
      "execution_count": null,
      "outputs": [
        {
          "output_type": "execute_result",
          "data": {
            "text/plain": [
              "tensor([[ 73.,  67.,  43.],\n",
              "        [ 91.,  88.,  64.],\n",
              "        [ 87., 134.,  58.],\n",
              "        [102.,  43.,  37.],\n",
              "        [ 69.,  96.,  70.],\n",
              "        [ 73.,  67.,  43.],\n",
              "        [ 91.,  88.,  64.],\n",
              "        [ 87., 134.,  58.],\n",
              "        [102.,  43.,  37.],\n",
              "        [ 69.,  96.,  70.],\n",
              "        [ 73.,  67.,  43.],\n",
              "        [ 91.,  88.,  64.],\n",
              "        [ 87., 134.,  58.],\n",
              "        [102.,  43.,  37.],\n",
              "        [ 69.,  96.,  70.]])"
            ]
          },
          "metadata": {
            "tags": []
          },
          "execution_count": 27
        }
      ]
    },
    {
      "cell_type": "markdown",
      "metadata": {
        "id": "sQSBcYlETyGX"
      },
      "source": [
        "We are using 15 training examples this time, to illustrate how to work with large datasets in small batches."
      ]
    },
    {
      "cell_type": "markdown",
      "metadata": {
        "id": "sgBf-PPATyGY"
      },
      "source": [
        "## Dataset and DataLoader\n",
        "\n",
        "We'll create a `TensorDataset`, which allows access to rows from `inputs` and `targets` as tuples, and provides standard APIs for working with many different types of datasets in PyTorch."
      ]
    },
    {
      "cell_type": "code",
      "metadata": {
        "id": "9y1oS38JTyGZ"
      },
      "source": [
        "from torch.utils.data import TensorDataset"
      ],
      "execution_count": null,
      "outputs": []
    },
    {
      "cell_type": "code",
      "metadata": {
        "id": "A2fwnqcTTyGg",
        "outputId": "ab95ae5c-94ab-4413-e884-bf9dd313a48f",
        "colab": {
          "base_uri": "https://localhost:8080/",
          "height": 102
        }
      },
      "source": [
        "# Define dataset\n",
        "train_ds = TensorDataset(inputs, targets)\n",
        "train_ds[0:3]"
      ],
      "execution_count": null,
      "outputs": [
        {
          "output_type": "execute_result",
          "data": {
            "text/plain": [
              "(tensor([[ 73.,  67.,  43.],\n",
              "         [ 91.,  88.,  64.],\n",
              "         [ 87., 134.,  58.]]), tensor([[ 56.,  70.],\n",
              "         [ 81., 101.],\n",
              "         [119., 133.]]))"
            ]
          },
          "metadata": {
            "tags": []
          },
          "execution_count": 29
        }
      ]
    },
    {
      "cell_type": "markdown",
      "metadata": {
        "id": "iqUEu3xgTyGp"
      },
      "source": [
        "The `TensorDataset` allows us to access a small section of the training data using the array indexing notation (`[0:3]` in the above code). It returns a tuple (or pair), in which the first element contains the input variables for the selected rows, and the second contains the targets."
      ]
    },
    {
      "cell_type": "markdown",
      "metadata": {
        "id": "r5xs9m3OTyGq"
      },
      "source": [
        "We'll also create a `DataLoader`, which can split the data into batches of a predefined size while training. It also provides other utilities like shuffling and random sampling of the data."
      ]
    },
    {
      "cell_type": "code",
      "metadata": {
        "id": "RDuO49SZTyGr"
      },
      "source": [
        "from torch.utils.data import DataLoader"
      ],
      "execution_count": null,
      "outputs": []
    },
    {
      "cell_type": "code",
      "metadata": {
        "id": "lLfB6S2LTyG8"
      },
      "source": [
        "# Define data loader\n",
        "batch_size = 5\n",
        "train_dl = DataLoader(train_ds, batch_size, shuffle=True)"
      ],
      "execution_count": null,
      "outputs": []
    },
    {
      "cell_type": "markdown",
      "metadata": {
        "id": "zI4nYsYhTyHU"
      },
      "source": [
        "The data loader is typically used in a `for-in` loop. Let's look at an example."
      ]
    },
    {
      "cell_type": "code",
      "metadata": {
        "id": "3iaq2C2kTyHW",
        "outputId": "879d800d-b570-4b37-e4d7-e661a8d7f624",
        "colab": {
          "base_uri": "https://localhost:8080/",
          "height": 187
        }
      },
      "source": [
        "for xb, yb in train_dl:\n",
        "    print(xb)\n",
        "    print(yb)\n",
        "    break"
      ],
      "execution_count": null,
      "outputs": [
        {
          "output_type": "stream",
          "text": [
            "tensor([[102.,  43.,  37.],\n",
            "        [ 73.,  67.,  43.],\n",
            "        [102.,  43.,  37.],\n",
            "        [ 69.,  96.,  70.],\n",
            "        [ 91.,  88.,  64.]])\n",
            "tensor([[ 22.,  37.],\n",
            "        [ 56.,  70.],\n",
            "        [ 22.,  37.],\n",
            "        [103., 119.],\n",
            "        [ 81., 101.]])\n"
          ],
          "name": "stdout"
        }
      ]
    },
    {
      "cell_type": "markdown",
      "metadata": {
        "id": "TXrfWPb3TyHf"
      },
      "source": [
        "In each iteration, the data loader returns one batch of data, with the given batch size. If `shuffle` is set to `True`, it shuffles the training data before creating batches. Shuffling helps randomize the input to the optimization algorithm, which can lead to faster reduction in the loss."
      ]
    },
    {
      "cell_type": "markdown",
      "metadata": {
        "id": "47em9-CQTyHq"
      },
      "source": [
        "## nn.Linear\n",
        "\n",
        "Instead of initializing the weights & biases manually, we can define the model using the `nn.Linear` class from PyTorch, which does it automatically."
      ]
    },
    {
      "cell_type": "code",
      "metadata": {
        "id": "lGcO9plVTyHr",
        "outputId": "ce511791-9701-4f29-cde9-4a0cefeec4c3",
        "colab": {
          "base_uri": "https://localhost:8080/",
          "height": 102
        }
      },
      "source": [
        "# Define model\n",
        "model = nn.Linear(3, 2)\n",
        "print(model.weight)\n",
        "print(model.bias)"
      ],
      "execution_count": null,
      "outputs": [
        {
          "output_type": "stream",
          "text": [
            "Parameter containing:\n",
            "tensor([[-0.1052, -0.4537,  0.4805],\n",
            "        [ 0.1837, -0.0957, -0.1734]], requires_grad=True)\n",
            "Parameter containing:\n",
            "tensor([0.5050, 0.4179], requires_grad=True)\n"
          ],
          "name": "stdout"
        }
      ]
    },
    {
      "cell_type": "markdown",
      "metadata": {
        "id": "IIkLBycRTyH9"
      },
      "source": [
        "PyTorch models also have a helpful `.parameters` method, which returns a list containing all the weights and bias matrices present in the model. For our linear regression model, we have one weight matrix and one bias matrix."
      ]
    },
    {
      "cell_type": "code",
      "metadata": {
        "id": "-8-qrUwrTyH_",
        "outputId": "b2d05415-5b1e-4d38-f19e-b43de2705e03",
        "colab": {
          "base_uri": "https://localhost:8080/",
          "height": 102
        }
      },
      "source": [
        "# Parameters\n",
        "list(model.parameters())"
      ],
      "execution_count": null,
      "outputs": [
        {
          "output_type": "execute_result",
          "data": {
            "text/plain": [
              "[Parameter containing:\n",
              " tensor([[-0.1052, -0.4537,  0.4805],\n",
              "         [ 0.1837, -0.0957, -0.1734]], requires_grad=True),\n",
              " Parameter containing:\n",
              " tensor([0.5050, 0.4179], requires_grad=True)]"
            ]
          },
          "metadata": {
            "tags": []
          },
          "execution_count": 36
        }
      ]
    },
    {
      "cell_type": "markdown",
      "metadata": {
        "id": "nTN2YwobTyIN"
      },
      "source": [
        "We can use the model to generate predictions in the exact same way as before:"
      ]
    },
    {
      "cell_type": "code",
      "metadata": {
        "id": "A5Wi-AXfTyIP",
        "outputId": "2370adff-cbd6-4698-90ef-b367a18502a4",
        "colab": {
          "base_uri": "https://localhost:8080/",
          "height": 272
        }
      },
      "source": [
        "# Generate predictions\n",
        "preds = model(inputs)\n",
        "preds"
      ],
      "execution_count": null,
      "outputs": [
        {
          "output_type": "execute_result",
          "data": {
            "text/plain": [
              "tensor([[-1.6914e+01, -3.7555e-02],\n",
              "        [-1.8245e+01, -2.3813e+00],\n",
              "        [-4.1579e+01, -6.4782e+00],\n",
              "        [-1.1959e+01,  8.6279e+00],\n",
              "        [-1.6677e+01, -8.2294e+00],\n",
              "        [-1.6914e+01, -3.7555e-02],\n",
              "        [-1.8245e+01, -2.3813e+00],\n",
              "        [-4.1579e+01, -6.4782e+00],\n",
              "        [-1.1959e+01,  8.6279e+00],\n",
              "        [-1.6677e+01, -8.2294e+00],\n",
              "        [-1.6914e+01, -3.7555e-02],\n",
              "        [-1.8245e+01, -2.3813e+00],\n",
              "        [-4.1579e+01, -6.4782e+00],\n",
              "        [-1.1959e+01,  8.6279e+00],\n",
              "        [-1.6677e+01, -8.2294e+00]], grad_fn=<AddmmBackward>)"
            ]
          },
          "metadata": {
            "tags": []
          },
          "execution_count": 37
        }
      ]
    },
    {
      "cell_type": "markdown",
      "metadata": {
        "id": "4ux-6hpgTyIf"
      },
      "source": [
        "## Loss Function\n",
        "\n",
        "Instead of defining a loss function manually, we can use the built-in loss function `mse_loss`."
      ]
    },
    {
      "cell_type": "code",
      "metadata": {
        "id": "HY1_e036TyIf"
      },
      "source": [
        "# Import nn.functional\n",
        "import torch.nn.functional as F"
      ],
      "execution_count": null,
      "outputs": []
    },
    {
      "cell_type": "markdown",
      "metadata": {
        "id": "W5BzGlVxTyIp"
      },
      "source": [
        "The `nn.functional` package contains many useful loss functions and several other utilities. "
      ]
    },
    {
      "cell_type": "code",
      "metadata": {
        "id": "XOt_67NWTyIq"
      },
      "source": [
        "# Define loss function\n",
        "loss_fn = F.mse_loss"
      ],
      "execution_count": null,
      "outputs": []
    },
    {
      "cell_type": "markdown",
      "metadata": {
        "id": "O0Mf6bp4TyIw"
      },
      "source": [
        "Let's compute the loss for the current predictions of our model."
      ]
    },
    {
      "cell_type": "code",
      "metadata": {
        "id": "3a2AE70aTyI-",
        "outputId": "680cb63f-9586-404f-da1e-9c0b1f760644",
        "colab": {
          "base_uri": "https://localhost:8080/",
          "height": 34
        }
      },
      "source": [
        "loss = loss_fn(model(inputs), targets)\n",
        "print(loss)"
      ],
      "execution_count": null,
      "outputs": [
        {
          "output_type": "stream",
          "text": [
            "tensor(10846.6855, grad_fn=<MseLossBackward>)\n"
          ],
          "name": "stdout"
        }
      ]
    },
    {
      "cell_type": "markdown",
      "metadata": {
        "id": "u9o2LFCsTyJK"
      },
      "source": [
        "## Optimizer\n",
        "\n",
        "Instead of manually manipulating the model's weights & biases using gradients, we can use the optimizer `optim.SGD`. SGD stands for `stochastic gradient descent`. It is called `stochastic` because samples are selected in batches (often with random shuffling) instead of as a single group."
      ]
    },
    {
      "cell_type": "code",
      "metadata": {
        "id": "rWo13JHOTyJL"
      },
      "source": [
        "# Define optimizer\n",
        "opt = torch.optim.SGD(model.parameters(), lr=1e-5)"
      ],
      "execution_count": null,
      "outputs": []
    },
    {
      "cell_type": "markdown",
      "metadata": {
        "id": "6k4XOGyXTyJP"
      },
      "source": [
        "Note that `model.parameters()` is passed as an argument to `optim.SGD`, so that the optimizer knows which matrices should be modified during the update step. Also, we can specify a learning rate which controls the amount by which the parameters are modified."
      ]
    },
    {
      "cell_type": "markdown",
      "metadata": {
        "id": "b7T1Kd27TyJQ"
      },
      "source": [
        "## Train the model\n",
        "\n",
        "We are now ready to train the model. We'll follow the exact same process to implement gradient descent:\n",
        "\n",
        "1. Generate predictions\n",
        "\n",
        "2. Calculate the loss\n",
        "\n",
        "3. Compute gradients w.r.t the weights and biases\n",
        "\n",
        "4. Adjust the weights by subtracting a small quantity proportional to the gradient\n",
        "\n",
        "5. Reset the gradients to zero\n",
        "\n",
        "The only change is that we'll work batches of data, instead of processing the entire training data in every iteration. Let's define a utility function `fit` which trains the model for a given number of epochs."
      ]
    },
    {
      "cell_type": "code",
      "metadata": {
        "id": "AL_bNa6NTyJR"
      },
      "source": [
        "# Utility function to train the model\n",
        "def fit(num_epochs, model, loss_fn, opt, train_dl):\n",
        "    \n",
        "    # Repeat for given number of epochs\n",
        "    for epoch in range(num_epochs):\n",
        "        \n",
        "        # Train with batches of data\n",
        "        for xb,yb in train_dl:\n",
        "            \n",
        "            # 1. Generate predictions\n",
        "            pred = model(xb)\n",
        "            \n",
        "            # 2. Calculate loss\n",
        "            loss = loss_fn(pred, yb)\n",
        "            \n",
        "            # 3. Compute gradients\n",
        "            loss.backward()\n",
        "            \n",
        "            # 4. Update parameters using gradients\n",
        "            opt.step()\n",
        "            \n",
        "            # 5. Reset the gradients to zero\n",
        "            opt.zero_grad()\n",
        "        \n",
        "        # Print the progress\n",
        "        if (epoch+1) % 10 == 0:\n",
        "            print('Epoch [{}/{}], Loss: {:.4f}'.format(epoch+1, num_epochs, loss.item()))"
      ],
      "execution_count": null,
      "outputs": []
    },
    {
      "cell_type": "markdown",
      "metadata": {
        "id": "nQCZCbilTyJ0"
      },
      "source": [
        "Some things to note above:\n",
        "\n",
        "* We use the data loader defined earlier to get batches of data for every iteration.\n",
        "\n",
        "* Instead of updating parameters (weights and biases) manually, we use `opt.step` to perform the update, and `opt.zero_grad` to reset the gradients to zero.\n",
        "\n",
        "* We've also added a log statement which prints the loss from the last batch of data for every 10th epoch, to track the progress of training. `loss.item` returns the actual value stored in the loss tensor.\n",
        "\n",
        "Let's train the model for 100 epochs."
      ]
    },
    {
      "cell_type": "code",
      "metadata": {
        "id": "DiMraSLVTyJ6",
        "outputId": "af79adf0-66bb-4e9d-8d5f-557d92d34a40",
        "colab": {
          "base_uri": "https://localhost:8080/",
          "height": 187
        }
      },
      "source": [
        "fit(100, model, loss_fn, opt,train_dl)"
      ],
      "execution_count": null,
      "outputs": [
        {
          "output_type": "stream",
          "text": [
            "Epoch [10/100], Loss: 621.4437\n",
            "Epoch [20/100], Loss: 362.7081\n",
            "Epoch [30/100], Loss: 258.2314\n",
            "Epoch [40/100], Loss: 294.0838\n",
            "Epoch [50/100], Loss: 43.8461\n",
            "Epoch [60/100], Loss: 146.0635\n",
            "Epoch [70/100], Loss: 95.9315\n",
            "Epoch [80/100], Loss: 72.7480\n",
            "Epoch [90/100], Loss: 42.4754\n",
            "Epoch [100/100], Loss: 38.8644\n"
          ],
          "name": "stdout"
        }
      ]
    },
    {
      "cell_type": "markdown",
      "metadata": {
        "id": "prFFKVBNTyKb"
      },
      "source": [
        "Let's generate predictions using our model and verify that they're close to our targets."
      ]
    },
    {
      "cell_type": "code",
      "metadata": {
        "id": "O0ejfayATyKc",
        "outputId": "fe275c91-de67-45fc-824e-f663f0d08bd2",
        "colab": {
          "base_uri": "https://localhost:8080/",
          "height": 272
        }
      },
      "source": [
        "# Generate predictions\n",
        "preds = model(inputs)\n",
        "preds"
      ],
      "execution_count": null,
      "outputs": [
        {
          "output_type": "execute_result",
          "data": {
            "text/plain": [
              "tensor([[ 58.5067,  71.7563],\n",
              "        [ 84.4086,  97.2237],\n",
              "        [112.3672, 136.7336],\n",
              "        [ 27.8542,  45.9531],\n",
              "        [101.8373, 108.1348],\n",
              "        [ 58.5067,  71.7563],\n",
              "        [ 84.4086,  97.2237],\n",
              "        [112.3672, 136.7336],\n",
              "        [ 27.8542,  45.9531],\n",
              "        [101.8373, 108.1348],\n",
              "        [ 58.5067,  71.7563],\n",
              "        [ 84.4086,  97.2237],\n",
              "        [112.3672, 136.7336],\n",
              "        [ 27.8542,  45.9531],\n",
              "        [101.8373, 108.1348]], grad_fn=<AddmmBackward>)"
            ]
          },
          "metadata": {
            "tags": []
          },
          "execution_count": 45
        }
      ]
    },
    {
      "cell_type": "code",
      "metadata": {
        "id": "sbyGibjzTyKj",
        "outputId": "1935a4e5-4c61-471e-fc68-ada0d08bce9d",
        "colab": {
          "base_uri": "https://localhost:8080/",
          "height": 272
        }
      },
      "source": [
        "# Compare with targets\n",
        "targets"
      ],
      "execution_count": null,
      "outputs": [
        {
          "output_type": "execute_result",
          "data": {
            "text/plain": [
              "tensor([[ 56.,  70.],\n",
              "        [ 81., 101.],\n",
              "        [119., 133.],\n",
              "        [ 22.,  37.],\n",
              "        [103., 119.],\n",
              "        [ 56.,  70.],\n",
              "        [ 81., 101.],\n",
              "        [119., 133.],\n",
              "        [ 22.,  37.],\n",
              "        [103., 119.],\n",
              "        [ 56.,  70.],\n",
              "        [ 81., 101.],\n",
              "        [119., 133.],\n",
              "        [ 22.,  37.],\n",
              "        [103., 119.]])"
            ]
          },
          "metadata": {
            "tags": []
          },
          "execution_count": 46
        }
      ]
    },
    {
      "cell_type": "markdown",
      "metadata": {
        "id": "l-o9haeNTyK7"
      },
      "source": [
        "Indeed, the predictions are quite close to our targets, and now we have a fairly good model to predict crop yields for apples and oranges by looking at the average temperature, rainfall and humidity in a region."
      ]
    },
    {
      "cell_type": "markdown",
      "metadata": {
        "id": "oj9NJtb8TyLC"
      },
      "source": [
        "## Commit and update the notebook\n",
        "\n",
        "As a final step, we can record a new version of the notebook using the `jovian` library."
      ]
    },
    {
      "cell_type": "code",
      "metadata": {
        "id": "qJDf1RkRTyLE"
      },
      "source": [
        "import jovian"
      ],
      "execution_count": null,
      "outputs": []
    },
    {
      "cell_type": "code",
      "metadata": {
        "id": "tQ3hEkdZTyLZ"
      },
      "source": [
        "jovian.commit()"
      ],
      "execution_count": null,
      "outputs": []
    },
    {
      "cell_type": "markdown",
      "metadata": {
        "id": "OAE0KuY8TyLl"
      },
      "source": [
        "Note that running `jovian.commit` a second time records a new version of your existing notebook. With Jovian.ml, you can avoid creating copies of your Jupyter notebooks and keep versions organized. Jovian also provides a visual diff ([example](https://jovian.ml/aakashns/keras-mnist-jovian/diff?base=8&remote=2)) so you can inspect what has changed between different versions:\n",
        "\n",
        "![jovian-commenting](https://i.imgur.com/HF1cOVt.png)"
      ]
    },
    {
      "cell_type": "markdown",
      "metadata": {
        "id": "2jL7AuGvTyLm"
      },
      "source": [
        "## Further Reading\n",
        "\n",
        "We've covered a lot of ground this this tutorial, including *linear regression* and the *gradient descent* optimization algorithm. Here are a few resources if you'd like to dig deeper into these topics:\n",
        "\n",
        "* For a more detailed explanation of derivates and gradient descent, see [these notes from a Udacity course](https://storage.googleapis.com/supplemental_media/udacityu/315142919/Gradient%20Descent.pdf). \n",
        "\n",
        "* For an animated visualization of how linear regression works, [see this post](https://hackernoon.com/visualizing-linear-regression-with-pytorch-9261f49edb09).\n",
        "\n",
        "* For a more mathematical treatment of matrix calculus, linear regression and gradient descent, you should check out [Andrew Ng's excellent course notes](https://github.com/Cleo-Stanford-CS/CS229_Notes/blob/master/lectures/cs229-notes1.pdf) from CS229 at Stanford University.\n",
        "\n",
        "* To practice and test your skills, you can participate in the [Boston Housing Price Prediction](https://www.kaggle.com/c/boston-housing) competition on Kaggle, a website that hosts data science competitions."
      ]
    },
    {
      "cell_type": "markdown",
      "metadata": {
        "id": "E0Q_K1IGTyLo"
      },
      "source": [
        "With this, we complete our discussion of linear regression in PyTorch, and we’re ready to move on to the next topic: *Logistic regression*."
      ]
    },
    {
      "cell_type": "code",
      "metadata": {
        "id": "pR1Nd4ZOTyLp"
      },
      "source": [
        ""
      ],
      "execution_count": null,
      "outputs": []
    }
  ]
}